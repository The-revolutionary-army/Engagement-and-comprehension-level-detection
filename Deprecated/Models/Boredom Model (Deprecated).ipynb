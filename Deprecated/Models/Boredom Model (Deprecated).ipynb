{
 "cells": [
  {
   "cell_type": "code",
   "execution_count": 1,
   "metadata": {},
   "outputs": [],
   "source": [
    "import cv2\n",
    "from pathlib import Path\n",
    "from random import *\n",
    "import tensorflow as tf\n",
    "from tensorflow import keras\n",
    "import numpy as np\n",
    "import matplotlib.pyplot as plt\n",
    "import pandas as pd\n",
    "from skimage.feature import hog\n",
    "from imutils import face_utils\n",
    "#import dlib\n",
    "import os\n",
    "import pickle\n",
    "np.random.seed(1000)\n"
   ]
  },
  {
   "cell_type": "code",
   "execution_count": 2,
   "metadata": {},
   "outputs": [],
   "source": [
    "physical_devices = tf.config.experimental.list_physical_devices('GPU')\n",
    "if len(physical_devices) > 0:\n",
    "    tf.config.experimental.set_memory_growth(physical_devices[0], True)"
   ]
  },
  {
   "cell_type": "code",
   "execution_count": 3,
   "metadata": {},
   "outputs": [],
   "source": [
    "frames = []\n",
    "labels = []\n",
    "for file in os.listdir('output_bordam/'):\n",
    "    if file[-10:] == 'frames.pkl':\n",
    "        with open('output_bordam/'+file, 'rb') as f:\n",
    "            frames.append(pickle.load(f))\n",
    "    elif file[-10:] == 'labels.pkl':\n",
    "        with open('output_bordam/'+file, 'rb') as f:\n",
    "            labels.append(pickle.load(f))"
   ]
  },
  {
   "cell_type": "code",
   "execution_count": 4,
   "metadata": {},
   "outputs": [
    {
     "name": "stdout",
     "output_type": "stream",
     "text": [
      "9067 9067\n"
     ]
    }
   ],
   "source": [
    "print(len(frames), len(labels))"
   ]
  },
  {
   "cell_type": "code",
   "execution_count": 5,
   "metadata": {},
   "outputs": [],
   "source": [
    "from sklearn.model_selection import train_test_split\n",
    "train_clips, test_clips, train_clips_labels, test_clips_labels = \\\n",
    "    train_test_split(frames, labels, test_size=0.2, random_state=42)"
   ]
  },
  {
   "cell_type": "code",
   "execution_count": 6,
   "metadata": {},
   "outputs": [
    {
     "name": "stdout",
     "output_type": "stream",
     "text": [
      "1944475 1944475 482212 482212\n"
     ]
    }
   ],
   "source": [
    "train_images, test_images, train_labels, test_labels = [], [], [], []\n",
    "\n",
    "for clip, label in zip(train_clips, train_clips_labels):\n",
    "    try:\n",
    "        train_images, train_labels = train_images + clip, train_labels + [label[0]] * len(clip)\n",
    "    except:\n",
    "        continue\n",
    "\n",
    "for clip, label in zip(test_clips, test_clips_labels):\n",
    "    try:\n",
    "        test_images, test_labels = test_images + clip, test_labels + [label[0]] * len(clip)\n",
    "    except:\n",
    "        continue\n",
    "    \n",
    "print(len(train_images), len(train_labels), len(test_images), len(test_labels))"
   ]
  },
  {
   "cell_type": "code",
   "execution_count": 7,
   "metadata": {},
   "outputs": [],
   "source": [
    "clahe = cv2.createCLAHE(clipLimit=2.0, tileGridSize=(8,8))\n",
    "for i in range(len(train_images)):\n",
    "    train_images[i] = clahe.apply(train_images[i])\n",
    "for i in range(len(test_images)):\n",
    "    test_images[i] = clahe.apply(test_images[i])\n",
    "   "
   ]
  },
  {
   "cell_type": "code",
   "execution_count": 8,
   "metadata": {},
   "outputs": [],
   "source": [
    "train_images, test_images, train_labels, test_labels = np.asarray(train_images), np.asarray(test_images), np.asarray(train_labels), np.asarray(test_labels)"
   ]
  },
  {
   "cell_type": "code",
   "execution_count": 9,
   "metadata": {},
   "outputs": [],
   "source": [
    "test_images, test_labels =np.asarray(test_images), np.asarray(test_labels)"
   ]
  },
  {
   "cell_type": "code",
   "execution_count": 10,
   "metadata": {},
   "outputs": [],
   "source": [
    "test_images = np.expand_dims(test_images, axis=3)\n",
    "train_images = np.expand_dims(train_images, axis=3)"
   ]
  },
  {
   "cell_type": "code",
   "execution_count": null,
   "metadata": {},
   "outputs": [],
   "source": []
  },
  {
   "cell_type": "code",
   "execution_count": 11,
   "metadata": {},
   "outputs": [],
   "source": [
    "train_labels //= 2\n",
    "test_labels //= 2"
   ]
  },
  {
   "cell_type": "code",
   "execution_count": 12,
   "metadata": {},
   "outputs": [],
   "source": [
    "#print((train_labels == 0).sum())\n",
    "#(train_labels == 1).sum()\n"
   ]
  },
  {
   "cell_type": "code",
   "execution_count": 13,
   "metadata": {},
   "outputs": [],
   "source": [
    "import tensorflow.keras.layers as kl\n",
    "import tensorflow.keras.losses\n",
    "from tensorflow.keras.applications.resnet50 import ResNet50"
   ]
  },
  {
   "cell_type": "code",
   "execution_count": 14,
   "metadata": {},
   "outputs": [],
   "source": [
    "def network():\n",
    "    model = tf.keras.Sequential()\n",
    "    model.add(kl.InputLayer(input_shape=(48, 48, 1)))\n",
    "    # First conv block\n",
    "    model.add(kl.Conv2D(filters = 96, kernel_size=7, padding='same', strides=2))\n",
    "    model.add(tf.keras.layers.ReLU())\n",
    "    model.add(kl.MaxPooling2D(pool_size=(3, 3)))\n",
    "    # Second conv block\n",
    "    model.add(kl.Conv2D(filters = 144, kernel_size=5, padding='same', strides=1))\n",
    "    model.add(tf.keras.layers.ReLU())\n",
    "    model.add(kl.MaxPooling2D(pool_size=(2, 2)))\n",
    "    model.add(tf.keras.layers.Dropout(0.5))\n",
    "    # Third-Fourth-Fifth conv block\n",
    "    for i in range(3):\n",
    "        model.add(kl.Conv2D(filters = 144, kernel_size=3, padding='same', strides=1))\n",
    "        model.add(tf.keras.layers.ReLU())\n",
    "        model.add(tf.keras.layers.Dropout(0.5))\n",
    "    model.add(kl.MaxPooling2D(pool_size=(3, 3)))\n",
    "    # Flatten\n",
    "    model.add(kl.Flatten())\n",
    "    # First FC \n",
    "    model.add(kl.Dense(4048))\n",
    "    # Second Fc\n",
    "    model.add(kl.Dense(4048))\n",
    "    # Third FC\n",
    "    model.add(kl.Dense(2))\n",
    "    # Softmax at the end\n",
    "    model.add(kl.Softmax())\n",
    "    \n",
    "    return model"
   ]
  },
  {
   "cell_type": "code",
   "execution_count": 23,
   "metadata": {},
   "outputs": [],
   "source": [
    "# model = network()\n",
    "model = keras.Sequential([\n",
    "    keras.layers.Conv2D(filters=8, input_shape=(48,48,1), kernel_size=5, strides=2, padding='valid', activation='selu'),\n",
    "    keras.layers.BatchNormalization(axis=-1),\n",
    "    keras.layers.Conv2D(filters=16, kernel_size=4, strides=2, padding='valid', activation='selu'),\n",
    "    keras.layers.BatchNormalization(axis=-1),\n",
    "    keras.layers.MaxPooling2D(pool_size=(2, 2), strides=2),\n",
    "    keras.layers.Conv2D(filters=16, kernel_size=3, strides=2, padding='valid', activation='selu'),\n",
    "    keras.layers.MaxPooling2D(pool_size=(2, 2), strides=2),\n",
    "    keras.layers.BatchNormalization(axis=-1),\n",
    "    keras.layers.Flatten(),\n",
    "    keras.layers.Dense(1024, activation='selu'),\n",
    "    keras.layers.Dropout(0.4),\n",
    "    keras.layers.Dense(512, activation='selu'),\n",
    "    keras.layers.BatchNormalization(axis=-1),\n",
    "    keras.layers.Dense(4, activation='softmax')\n",
    "])\n",
    "InitialLearnRate = 0.0001\n",
    "MaxEpochs = 3\n",
    "MiniBatchSize = 50\n",
    "opt = tf.keras.optimizers.SGD(lr=InitialLearnRate, decay=InitialLearnRate / MaxEpochs, momentum=0.03)\n",
    "model.compile(loss=\"sparse_categorical_crossentropy\", optimizer=opt,\n",
    "    metrics=[\"accuracy\"])\n"
   ]
  },
  {
   "cell_type": "code",
   "execution_count": 31,
   "metadata": {},
   "outputs": [],
   "source": [
    "numFilters = 128 # number of filters in Conv2D layer\n",
    "# kernal size of the Conv2D layer\n",
    "kernalSize1 = 2\n",
    "# max pooling window size\n",
    "poolingWindowSz = 2\n",
    "# number of filters in fully connected layers\n",
    "numNueronsFCL1 = 128\n",
    "numNueronsFCL2 = 128\n",
    "# split ratio for test and validation\n",
    "trainSplitRatio = 0.8\n",
    "# number of epochs\n",
    "Epochs = 10\n",
    "# batchsize\n",
    "batchSize = 10\n",
    "# number of total clases\n",
    "numClasses = 2\n",
    "# dropout ratio for dropout layer\n",
    "dropOutRatio = 0.2"
   ]
  },
  {
   "cell_type": "code",
   "execution_count": 46,
   "metadata": {},
   "outputs": [],
   "source": [
    "    model = keras.Sequential()\n",
    "    # adding the first convolutionial layer with 32 filters and 5 by 5 kernal size, using the rectifier as the activation function\n",
    "    model.add(keras.layers.Conv2D(numFilters, (kernalSize1,kernalSize1),input_shape=(48, 48,1),activation='relu'))\n",
    "    # adding a maxpooling layer\n",
    "    model.add(keras.layers.MaxPooling2D(pool_size=(poolingWindowSz,poolingWindowSz),padding='valid'))\n",
    "    # adding a dropout layer for the regularization and avoiding over fitting\n",
    "    model.add(keras.layers.Dropout(dropOutRatio))\n",
    "    # flattening the output in order to apply the fully connected layer\n",
    "    model.add(keras.layers.Flatten())\n",
    "    # adding first fully connected layer with 256 outputs\n",
    "    model.add(keras.layers.Dense(numNueronsFCL1, activation='relu'))\n",
    "    #adding second fully connected layer 128 outputs\n",
    "    model.add(keras.layers.Dense(numNueronsFCL2, activation='relu'))\n",
    "    # adding softmax layer for the classification\n",
    "    model.add(keras.layers.Dense(numClasses, activation='softmax'))\n",
    "    # Compiling the model to generate a model\n",
    "    adam = keras.optimizers.Adam(lr = 0.001, decay=1e-6)\n",
    "    model.compile(loss='sparse_categorical_crossentropy', optimizer=adam, metrics=['accuracy'])"
   ]
  },
  {
   "cell_type": "code",
   "execution_count": 47,
   "metadata": {},
   "outputs": [],
   "source": [
    "#model.compile(optimizer='adamax',\n",
    " #            loss='sparse_categorical_crossentropy',\n",
    "  #            metrics=['accuracy'])"
   ]
  },
  {
   "cell_type": "code",
   "execution_count": 48,
   "metadata": {},
   "outputs": [
    {
     "name": "stdout",
     "output_type": "stream",
     "text": [
      "[0.68708684 1.83627784]\n"
     ]
    }
   ],
   "source": [
    "from sklearn.utils.class_weight import compute_class_weight \n",
    "weights = compute_class_weight(class_weight = 'balanced', classes = np.unique(train_labels), y = train_labels)\n",
    "print(weights)"
   ]
  },
  {
   "cell_type": "code",
   "execution_count": 49,
   "metadata": {},
   "outputs": [
    {
     "name": "stdout",
     "output_type": "stream",
     "text": [
      "{0: 0.68708684, 1: 1.83627784}\n"
     ]
    }
   ],
   "source": [
    "weights = {0:0.68708684, 1:1.83627784}\n",
    "print(weights)"
   ]
  },
  {
   "cell_type": "code",
   "execution_count": 50,
   "metadata": {},
   "outputs": [
    {
     "name": "stdout",
     "output_type": "stream",
     "text": [
      "WARNING:tensorflow:sample_weight modes were coerced from\n",
      "  ...\n",
      "    to  \n",
      "  ['...']\n",
      "Train on 1944475 samples\n",
      "1944475/1944475 [==============================] - 273s 141us/sample - loss: 0.4510 - accuracy: 0.8360\n"
     ]
    },
    {
     "data": {
      "text/plain": [
       "<tensorflow.python.keras.callbacks.History at 0x1a69b759608>"
      ]
     },
     "execution_count": 50,
     "metadata": {},
     "output_type": "execute_result"
    }
   ],
   "source": [
    "model.fit(train_images, train_labels, epochs=1, class_weight=weights, batch_size=50)"
   ]
  },
  {
   "cell_type": "code",
   "execution_count": 51,
   "metadata": {},
   "outputs": [
    {
     "name": "stdout",
     "output_type": "stream",
     "text": [
      "482212/482212 [==============================] - 31s 64us/sample - loss: 0.9676 - accuracy: 0.6854\n"
     ]
    }
   ],
   "source": [
    "test_loss, test_acc = model.evaluate(test_images,  test_labels)"
   ]
  },
  {
   "cell_type": "code",
   "execution_count": 52,
   "metadata": {},
   "outputs": [],
   "source": [
    "# model.save('boredom74.h5')"
   ]
  },
  {
   "cell_type": "code",
   "execution_count": null,
   "metadata": {},
   "outputs": [],
   "source": []
  }
 ],
 "metadata": {
  "kernelspec": {
   "display_name": "Python 3",
   "language": "python",
   "name": "python3"
  },
  "language_info": {
   "codemirror_mode": {
    "name": "ipython",
    "version": 3
   },
   "file_extension": ".py",
   "mimetype": "text/x-python",
   "name": "python",
   "nbconvert_exporter": "python",
   "pygments_lexer": "ipython3",
   "version": "3.7.9"
  }
 },
 "nbformat": 4,
 "nbformat_minor": 4
}
