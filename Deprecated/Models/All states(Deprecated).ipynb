{
 "cells": [
  {
   "cell_type": "code",
   "execution_count": 1,
   "metadata": {},
   "outputs": [],
   "source": [
    "import cv2\n",
    "from pathlib import Path\n",
    "from random import *\n",
    "import tensorflow as tf\n",
    "from tensorflow import keras\n",
    "import numpy as np\n",
    "import matplotlib.pyplot as plt\n",
    "import pandas as pd\n",
    "from skimage.feature import hog\n",
    "from imutils import face_utils\n",
    "import dlib\n",
    "import os\n",
    "import pickle\n",
    "np.random.seed(1000)\n"
   ]
  },
  {
   "cell_type": "code",
   "execution_count": 2,
   "metadata": {},
   "outputs": [],
   "source": [
    "physical_devices = tf.config.experimental.list_physical_devices('GPU')\n",
    "if len(physical_devices) > 0:\n",
    "   tf.config.experimental.set_memory_growth(physical_devices[0], True)"
   ]
  },
  {
   "cell_type": "code",
   "execution_count": 3,
   "metadata": {},
   "outputs": [],
   "source": [
    "frames = []\n",
    "labels = []\n",
    "Engagment = []\n",
    "confusion = []\n",
    "frustration = []\n",
    "bordam = []\n",
    "temp = []\n",
    "for file in os.listdir('output_engage/'):\n",
    "    if file[-10:] == 'frames.pkl':\n",
    "        with open('output_engage/'+file, 'rb') as f:\n",
    "            frames.append(pickle.load(f))\n",
    "    elif file[-10:] == 'labels.pkl':\n",
    "        temp = []\n",
    "        with open('output_engage/'+file, 'rb') as f:\n",
    "            Engagment = pickle.load(f)\n",
    "        with open('output_confusion/'+file, 'rb') as fc:\n",
    "            confusion = pickle.load(fc)\n",
    "        with open('output_frustration/'+file, 'rb') as ff:\n",
    "            frustration = pickle.load(ff)\n",
    "        with open('output_bordam/'+file, 'rb') as fb:\n",
    "            bordam = pickle.load(fb)\n",
    "        temp.extend(Engagment)\n",
    "        temp.extend(confusion)\n",
    "        temp.extend(frustration)\n",
    "        temp.extend(bordam)\n",
    "        labels.append(temp)"
   ]
  },
  {
   "cell_type": "code",
   "execution_count": 4,
   "metadata": {},
   "outputs": [
    {
     "name": "stdout",
     "output_type": "stream",
     "text": [
      "9067 9067\n"
     ]
    }
   ],
   "source": [
    "print(len(frames), len(labels))"
   ]
  },
  {
   "cell_type": "code",
   "execution_count": 5,
   "metadata": {},
   "outputs": [],
   "source": [
    "from sklearn.model_selection import train_test_split\n",
    "train_clips, test_clips, train_clips_labels, test_clips_labels = \\\n",
    "    train_test_split(frames, labels, test_size=0.2, random_state=42)"
   ]
  },
  {
   "cell_type": "code",
   "execution_count": 6,
   "metadata": {},
   "outputs": [
    {
     "name": "stdout",
     "output_type": "stream",
     "text": [
      "1944475 1944475 482212 482212\n"
     ]
    }
   ],
   "source": [
    "train_images, test_images, train_labels, test_labels = [], [], [], []\n",
    "\n",
    "for clip, label in zip(train_clips, train_clips_labels):\n",
    "    try:\n",
    "        train_images, train_labels = train_images + clip, train_labels + [[label[0], label[299], label[599], label[899]]] * len(clip)\n",
    "    except Exception as e:\n",
    "        continue\n",
    "\n",
    "for clip, label in zip(test_clips, test_clips_labels):\n",
    "    try:\n",
    "        test_images, test_labels = test_images + clip, test_labels + [[label[0], label[299], label[599], label[899]]] * len(clip)\n",
    "    except Exception as e:\n",
    "        continue\n",
    "    \n",
    "print(len(train_images), len(train_labels), len(test_images), len(test_labels))"
   ]
  },
  {
   "cell_type": "code",
   "execution_count": 7,
   "metadata": {},
   "outputs": [],
   "source": [
    "train_images, test_images, train_labels, test_labels = np.asarray(train_images), np.asarray(test_images), np.asarray(train_labels), np.asarray(test_labels)"
   ]
  },
  {
   "cell_type": "code",
   "execution_count": 8,
   "metadata": {},
   "outputs": [],
   "source": [
    "test_images = np.expand_dims(test_images, axis=3)\n",
    "train_images = np.expand_dims(train_images, axis=3)"
   ]
  },
  {
   "cell_type": "code",
   "execution_count": 9,
   "metadata": {},
   "outputs": [],
   "source": [
    "train_labels //= 2\n",
    "test_labels //= 2"
   ]
  },
  {
   "cell_type": "code",
   "execution_count": 25,
   "metadata": {},
   "outputs": [
    {
     "name": "stdout",
     "output_type": "stream",
     "text": [
      "[1 1 0 0]\n"
     ]
    }
   ],
   "source": [
    "print(train_labels[0])"
   ]
  },
  {
   "cell_type": "code",
   "execution_count": 26,
   "metadata": {},
   "outputs": [],
   "source": [
    "model = keras.Sequential([\n",
    "    keras.layers.Conv2D(filters=288, input_shape=(48,48,1), kernel_size=3, padding='valid', activation='elu'),\n",
    "    keras.layers.BatchNormalization(axis=-1),\n",
    "    keras.layers.Conv2D(filters=288, kernel_size=1, padding='valid', activation='elu'),\n",
    "    keras.layers.Conv2D(filters=288, kernel_size=3, strides=2, padding='valid', activation='elu'),\n",
    "    keras.layers.BatchNormalization(axis=-1),\n",
    "    keras.layers.Dropout(0.5),\n",
    "    keras.layers.Conv2D(filters=144, kernel_size=3, padding='valid', activation='elu'),\n",
    "    keras.layers.BatchNormalization(axis=-1),\n",
    "    keras.layers.Conv2D(filters=144, kernel_size=1, padding='valid', activation='elu'),\n",
    "    keras.layers.Conv2D(filters=144, kernel_size=1, padding='valid', activation='elu'),\n",
    "    keras.layers.MaxPooling2D(pool_size=3, strides=2),\n",
    "    keras.layers.Dropout(0.5),\n",
    "    keras.layers.Conv2D(filters=48, kernel_size=3, padding='valid', activation='elu'),   \n",
    "    keras.layers.BatchNormalization(axis=-1),\n",
    "    keras.layers.Conv2D(filters=48, kernel_size=3, padding='valid', activation='elu'),   \n",
    "    keras.layers.BatchNormalization(axis=-1),\n",
    "    keras.layers.Conv2D(filters=48, kernel_size=3, padding='valid', activation='elu'),   \n",
    "    keras.layers.BatchNormalization(axis=-1),\n",
    "    keras.layers.Conv2D(filters=4, kernel_size=1, padding='valid', activation='elu'),\n",
    "    keras.layers.GlobalAveragePooling2D(),\n",
    "    keras.layers.Dense(4, activation='sigmoid')\n",
    "])"
   ]
  },
  {
   "cell_type": "code",
   "execution_count": 27,
   "metadata": {},
   "outputs": [],
   "source": [
    "model.compile(optimizer='adamax',\n",
    "              loss='categorical_crossentropy',\n",
    "              metrics=['accuracy'])"
   ]
  },
  {
   "cell_type": "code",
   "execution_count": 28,
   "metadata": {},
   "outputs": [
    {
     "name": "stdout",
     "output_type": "stream",
     "text": [
      "{0: 0.25383174022333826, 1: 1631.2709731543623, 2: 26.56386612021858, 3: 45.19932589493259}\n"
     ]
    }
   ],
   "source": [
    "import numpy as np\n",
    "from sklearn.utils.class_weight import compute_class_weight\n",
    "\n",
    "y_integers = np.argmax(train_labels, axis=1)\n",
    "class_weights = compute_class_weight('balanced', np.unique(y_integers), y_integers)\n",
    "d_class_weights = dict(enumerate(class_weights))\n",
    "print(d_class_weights)"
   ]
  },
  {
   "cell_type": "code",
   "execution_count": 32,
   "metadata": {},
   "outputs": [
    {
     "name": "stdout",
     "output_type": "stream",
     "text": [
      "WARNING:tensorflow:sample_weight modes were coerced from\n",
      "  ...\n",
      "    to  \n",
      "  ['...']\n",
      "Train on 1944475 samples\n",
      "Epoch 1/5\n",
      "1944475/1944475 [==============================] - 1986s 1ms/sample - loss: 1.5320 - accuracy: 0.5748\n",
      "Epoch 2/5\n",
      "1944475/1944475 [==============================] - 1977s 1ms/sample - loss: 1.5056 - accuracy: 0.5350\n",
      "Epoch 3/5\n",
      "1944475/1944475 [==============================] - 1977s 1ms/sample - loss: 1.4888 - accuracy: 0.5015\n",
      "Epoch 4/5\n",
      "1944475/1944475 [==============================] - 1978s 1ms/sample - loss: 1.4756 - accuracy: 0.5124\n",
      "Epoch 5/5\n",
      "1944475/1944475 [==============================] - 1976s 1ms/sample - loss: 1.4665 - accuracy: 0.4936\n"
     ]
    },
    {
     "data": {
      "text/plain": [
       "<tensorflow.python.keras.callbacks.History at 0x1cbc10470c8>"
      ]
     },
     "execution_count": 32,
     "metadata": {},
     "output_type": "execute_result"
    }
   ],
   "source": [
    "model.fit(train_images, train_labels, class_weight = d_class_weights, epochs=5, batch_size=50)"
   ]
  },
  {
   "cell_type": "code",
   "execution_count": 33,
   "metadata": {},
   "outputs": [
    {
     "name": "stdout",
     "output_type": "stream",
     "text": [
      "482212/482212 [==============================] - 157s 326us/sample - loss: 2.3008 - accuracy: 0.4715\n"
     ]
    }
   ],
   "source": [
    "test_loss, test_acc = model.evaluate(test_images,  test_labels)"
   ]
  },
  {
   "cell_type": "code",
   "execution_count": 34,
   "metadata": {},
   "outputs": [],
   "source": [
    "model.save('allconv8labels.h5')"
   ]
  },
  {
   "cell_type": "code",
   "execution_count": null,
   "metadata": {},
   "outputs": [],
   "source": []
  }
 ],
 "metadata": {
  "kernelspec": {
   "display_name": "Python 3.7 (tensorflow)",
   "language": "python",
   "name": "tensorflow"
  },
  "language_info": {
   "codemirror_mode": {
    "name": "ipython",
    "version": 3
   },
   "file_extension": ".py",
   "mimetype": "text/x-python",
   "name": "python",
   "nbconvert_exporter": "python",
   "pygments_lexer": "ipython3",
   "version": "3.7.9"
  }
 },
 "nbformat": 4,
 "nbformat_minor": 4
}
