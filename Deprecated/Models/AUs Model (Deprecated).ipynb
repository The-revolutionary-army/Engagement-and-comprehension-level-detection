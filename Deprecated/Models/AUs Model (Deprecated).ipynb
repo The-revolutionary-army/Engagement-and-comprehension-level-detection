{
 "cells": [
  {
   "cell_type": "code",
   "execution_count": 1,
   "metadata": {},
   "outputs": [],
   "source": [
    "import cv2\n",
    "from pathlib import Path\n",
    "from random import *\n",
    "import tensorflow as tf\n",
    "from tensorflow import keras\n",
    "import numpy as np\n",
    "import matplotlib.pyplot as plt\n",
    "import pandas as pd\n",
    "from skimage.feature import hog\n",
    "from imutils import face_utils\n",
    "#import dlib\n",
    "import os\n",
    "import pickle\n",
    "np.random.seed(1000)\n"
   ]
  },
  {
   "cell_type": "code",
   "execution_count": 2,
   "metadata": {},
   "outputs": [],
   "source": [
    "physical_devices = tf.config.experimental.list_physical_devices('GPU')\n",
    "if len(physical_devices) > 0:\n",
    "    tf.config.experimental.set_memory_growth(physical_devices[0], True)"
   ]
  },
  {
   "cell_type": "code",
   "execution_count": 3,
   "metadata": {},
   "outputs": [],
   "source": [
    "frames = []\n",
    "labels = []\n",
    "for file in os.listdir('output/'):\n",
    "    if file[-13:] == 'frames.pickle':\n",
    "        with open('output/'+file, 'rb') as f:\n",
    "            frames.append(pickle.load(f))\n",
    "    elif file[-13:] == 'labels.pickle':\n",
    "        with open('output/'+file, 'rb') as f:\n",
    "            labels.append(pickle.load(f))"
   ]
  },
  {
   "cell_type": "code",
   "execution_count": 4,
   "metadata": {},
   "outputs": [
    {
     "name": "stdout",
     "output_type": "stream",
     "text": [
      "8231 8231\n"
     ]
    }
   ],
   "source": [
    "print(len(frames), len(labels))"
   ]
  },
  {
   "cell_type": "code",
   "execution_count": 5,
   "metadata": {},
   "outputs": [],
   "source": [
    "from sklearn.model_selection import train_test_split\n",
    "train_clips, test_clips, train_clips_labels, test_clips_labels = \\\n",
    "    train_test_split(frames, labels, test_size=0.2, random_state=42)"
   ]
  },
  {
   "cell_type": "code",
   "execution_count": 6,
   "metadata": {},
   "outputs": [
    {
     "name": "stdout",
     "output_type": "stream",
     "text": [
      "1974773 1974773 493987 493987\n"
     ]
    }
   ],
   "source": [
    "train_images, test_images, train_labels, test_labels = [], [], [], []\n",
    "\n",
    "for clip, label in zip(train_clips, train_clips_labels):\n",
    "    try:\n",
    "        train_images, train_labels = train_images + clip, train_labels + [label[0]] * len(clip)\n",
    "    except Exception as e:\n",
    "        continue\n",
    "\n",
    "for clip, label in zip(test_clips, test_clips_labels):\n",
    "    try:\n",
    "        test_images, test_labels = test_images + clip, test_labels + [label[0]] * len(clip)\n",
    "    except Exception as e:\n",
    "        continue\n",
    "    \n",
    "print(len(train_images), len(train_labels), len(test_images), len(test_labels))"
   ]
  },
  {
   "cell_type": "code",
   "execution_count": 7,
   "metadata": {},
   "outputs": [],
   "source": [
    "train_images, test_images, train_labels, test_labels = np.asarray(train_images), np.asarray(test_images), np.asarray(train_labels), np.asarray(test_labels)"
   ]
  },
  {
   "cell_type": "code",
   "execution_count": 8,
   "metadata": {},
   "outputs": [],
   "source": [
    "test_images, test_labels =np.asarray(test_images), np.asarray(test_labels)"
   ]
  },
  {
   "cell_type": "code",
   "execution_count": 9,
   "metadata": {},
   "outputs": [],
   "source": [
    "test_images = np.expand_dims(test_images, axis=3)\n",
    "train_images = np.expand_dims(train_images, axis=3)"
   ]
  },
  {
   "cell_type": "code",
   "execution_count": 43,
   "metadata": {},
   "outputs": [],
   "source": [
    "import tensorflow.keras.layers as kl\n",
    "import tensorflow.keras.losses\n",
    "from tensorflow.keras.applications.resnet50 import ResNet50"
   ]
  },
  {
   "cell_type": "code",
   "execution_count": 78,
   "metadata": {},
   "outputs": [],
   "source": [
    "def network():\n",
    "    model = tf.keras.Sequential()\n",
    "    model.add(kl.InputLayer(input_shape=(48, 48, 1)))\n",
    "    # First conv block\n",
    "    model.add(kl.Conv2D(filters = 96, kernel_size=7, padding='same', strides=2))\n",
    "    model.add(tf.keras.layers.ReLU())\n",
    "    model.add(kl.MaxPooling2D(pool_size=(3, 3)))\n",
    "    # Second conv block\n",
    "    model.add(kl.Conv2D(filters = 144, kernel_size=5, padding='same', strides=1))\n",
    "    model.add(tf.keras.layers.ReLU())\n",
    "    model.add(kl.MaxPooling2D(pool_size=(2, 2)))\n",
    "    model.add(tf.keras.layers.Dropout(0.5))\n",
    "    # Third-Fourth-Fifth conv block\n",
    "    for i in range(3):\n",
    "        model.add(kl.Conv2D(filters = 144, kernel_size=3, padding='same', strides=1))\n",
    "        model.add(tf.keras.layers.ReLU())\n",
    "        model.add(tf.keras.layers.Dropout(0.5))\n",
    "    model.add(kl.MaxPooling2D(pool_size=(3, 3)))\n",
    "    # Flatten\n",
    "    model.add(kl.Flatten())\n",
    "    # First FC \n",
    "    model.add(kl.Dense(4048))\n",
    "    # Second Fc\n",
    "    model.add(kl.Dense(4048))\n",
    "    # Third FC\n",
    "    model.add(kl.Dense(18, activation='sigmoid'))\n",
    "    \n",
    "    return model"
   ]
  },
  {
   "cell_type": "code",
   "execution_count": 79,
   "metadata": {},
   "outputs": [],
   "source": [
    "model = network()\n",
    "InitialLearnRate = 0.03\n",
    "MaxEpochs = 30\n",
    "MiniBatchSize = 32\n",
    "opt = tf.keras.optimizers.SGD(lr=InitialLearnRate, decay=InitialLearnRate / MaxEpochs)\n",
    "model.compile(loss=\"binary_crossentropy\", optimizer=opt,\n",
    "    metrics=[\"accuracy\"])\n"
   ]
  },
  {
   "cell_type": "code",
   "execution_count": 83,
   "metadata": {},
   "outputs": [
    {
     "name": "stdout",
     "output_type": "stream",
     "text": [
      "Train on 1974773 samples\n",
      "Epoch 1/2\n",
      "1974773/1974773 [==============================] - 271s 137us/sample - loss: 0.3220 - accuracy: 0.8692\n",
      "Epoch 2/2\n",
      "1974773/1974773 [==============================] - 267s 135us/sample - loss: 0.3190 - accuracy: 0.8709\n"
     ]
    },
    {
     "data": {
      "text/plain": [
       "<tensorflow.python.keras.callbacks.History at 0x1b495dfd2c8>"
      ]
     },
     "execution_count": 83,
     "metadata": {},
     "output_type": "execute_result"
    }
   ],
   "source": [
    "model.fit(train_images, train_labels, epochs=2, batch_size=50)"
   ]
  },
  {
   "cell_type": "code",
   "execution_count": 84,
   "metadata": {},
   "outputs": [
    {
     "name": "stdout",
     "output_type": "stream",
     "text": [
      "493987/493987 [==============================] - 34s 68us/sample - loss: 0.3878 - accuracy: 0.8768\n"
     ]
    }
   ],
   "source": [
    "test_loss, test_acc = model.evaluate(test_images,  test_labels)"
   ]
  },
  {
   "cell_type": "code",
   "execution_count": 3,
   "metadata": {},
   "outputs": [],
   "source": [
    "model = keras.models.load_model('AUs.h5')"
   ]
  },
  {
   "cell_type": "code",
   "execution_count": 23,
   "metadata": {},
   "outputs": [
    {
     "name": "stdout",
     "output_type": "stream",
     "text": [
      "(1, 48, 48, 1)\n",
      "(1, 48, 48, 1)\n",
      "(1, 48, 48, 1)\n",
      "(1, 48, 48, 1)\n",
      "(1, 48, 48, 1)\n",
      "(1, 48, 48, 1)\n"
     ]
    },
    {
     "data": {
      "image/png": "[encoded data removed]",
      "text/plain": [
       "<Figure size 432x288 with 1 Axes>"
      ]
     },
     "metadata": {},
     "output_type": "display_data"
    },
    {
     "data": {
      "image/png": "[encoded data removed]",
      "text/plain": [
       "<Figure size 432x288 with 1 Axes>"
      ]
     },
     "metadata": {},
     "output_type": "display_data"
    },
    {
     "data": {
      "image/png": "[encoded data removed]",
      "text/plain": [
       "<Figure size 432x288 with 1 Axes>"
      ]
     },
     "metadata": {},
     "output_type": "display_data"
    },
    {
     "data": {
      "image/png": "[encoded data removed]",
      "text/plain": [
       "<Figure size 432x288 with 1 Axes>"
      ]
     },
     "metadata": {},
     "output_type": "display_data"
    },
    {
     "data": {
      "image/png": "[encoded data removed]",
      "text/plain": [
       "<Figure size 432x288 with 1 Axes>"
      ]
     },
     "metadata": {},
     "output_type": "display_data"
    },
    {
     "data": {
      "image/png": "[encoded data removed]",
      "text/plain": [
       "<Figure size 432x288 with 1 Axes>"
      ]
     },
     "metadata": {},
     "output_type": "display_data"
    }
   ],
   "source": [
    "def removePlotterAxes():\n",
    "    plt.figure()\n",
    "    plt.grid(False)\n",
    "    plt.xticks([])\n",
    "    plt.yticks([])\n",
    "    pass\n",
    "def plotImg(img):\n",
    "    removePlotterAxes()\n",
    "    plt.imshow(img)\n",
    "    pass\n",
    "samples = []\n",
    "samples_dir = os.listdir(\"sample\")\n",
    "for frame_img in samples_dir:\n",
    "    image = cv2.imread(f'sample\\\\{frame_img}')\n",
    "    samples.append(cv2.cvtColor(cv2.resize(image,(48,48)), cv2.COLOR_BGR2GRAY))\n",
    "    \n",
    "samples = np.asarray(samples)\n",
    "prediction = []\n",
    "for sample in samples:\n",
    "    plotImg(cv2.cvtColor(sample, cv2.COLOR_BGR2RGB))\n",
    "    prd = np.expand_dims(sample, axis=-1)\n",
    "    prd = np.expand_dims(prd, axis=0)\n",
    "    print(prd.shape)\n",
    "    prediction.append(model.predict(prd)[0])"
   ]
  },
  {
   "cell_type": "code",
   "execution_count": 87,
   "metadata": {},
   "outputs": [
    {
     "name": "stdout",
     "output_type": "stream",
     "text": [
      "[[0.30476734, 0.38425845, 0.5201645, 0.42473766, 0.34353533, 0.22729826], [0.30073538, 0.32752708, 0.56404513, 0.45186228, 0.54174244, 0.23762438], [0.29348475, 0.49759147, 0.40122238, 0.5808583, 0.32497644, 0.2091327], [0.27749076, 0.30822733, 0.59176207, 0.4112595, 0.5063877, 0.20962445], [0.2563825, 0.3735896, 0.51503086, 0.5626083, 0.6017278, 0.19031624], [0.25578958, 0.22587459, 0.61044157, 0.2920865, 0.3577518, 0.19368416]]\n",
      "65.8463443517685 89.42192801975345 77.63413618576098 \n",
      "\n",
      "66.56838138898215 88.5140989111207 77.54124015005142 \n",
      "\n",
      "57.42048128445943 88.70371862868835 73.06209995657389 \n",
      "\n",
      "69.4881701072057 87.32883300925836 78.40850155823203 \n",
      "\n",
      "62.90724444389344 86.43489244966003 74.67106844677673 \n",
      "\n",
      "76.68648612499237 86.9427786487812 81.81463238688679 \n",
      "\n",
      "_______________________\n",
      "61.99884366989135 82.23610368328691 72.11747367658913 \n",
      "\n",
      "56.4011534055074 78.38218552068732 67.39166946309736 \n",
      "\n",
      "53.64431611696879 87.51887324151366 70.58159467924122 \n",
      "\n",
      "59.56435267130534 76.9332354947039 68.24879408300461 \n",
      "\n",
      "49.180483182271324 79.86873056198169 64.52460687212651 \n",
      "\n",
      "71.1956768433253 73.88284803799668 72.53926244066099 \n",
      "\n"
     ]
    }
   ],
   "source": [
    "y = np.array([1, 0, 1, 0, 1, 0, 1, 1, 0, 1, 1, 1, 1, 1, 1, 1, 1, 1])\n",
    "prediction = np.asarray(prediction)\n",
    "imp_au = []\n",
    "for x in prediction:\n",
    "    temp = [x[i] for i in [1,2,3,5,8,10]]\n",
    "    imp_au.append(temp)\n",
    "print(imp_au)\n",
    "imp_au = np.asarray(imp_au)\n",
    "for x in prediction:\n",
    "    z=x@y\n",
    "    a=np.linalg.norm(x)*np.linalg.norm(y)\n",
    "    #print(x)\n",
    "    _1=100+(((x[1]+x[3]+x[8])/3)-((x[2]+x[5]+x[10])/3)*100)\n",
    "    _2=(((z/a)+1)*50)\n",
    "    print(_1, _2, (_1+_2)/2,'\\n')\n",
    "print(\"_______________________\")\n",
    "y = [0,1,0,1,0,1]\n",
    "for x in imp_au:\n",
    "    z=x@y\n",
    "    a=np.linalg.norm(x)*np.linalg.norm(y)\n",
    "    #print(x)\n",
    "    _1=100+(((x[0]+x[2]+x[3])/3)-((x[1]+x[3]+x[4])/3)*100)\n",
    "    _2=(((z/a)+1)*50)\n",
    "    print(_1, _2, (_1+_2)/2,'\\n')"
   ]
  }
 ],
 "metadata": {
  "kernelspec": {
   "display_name": "Python 3",
   "language": "python",
   "name": "python3"
  },
  "language_info": {
   "codemirror_mode": {
    "name": "ipython",
    "version": 3
   },
   "file_extension": ".py",
   "mimetype": "text/x-python",
   "name": "python",
   "nbconvert_exporter": "python",
   "pygments_lexer": "ipython3",
   "version": "3.7.9"
  }
 },
 "nbformat": 4,
 "nbformat_minor": 4
}
