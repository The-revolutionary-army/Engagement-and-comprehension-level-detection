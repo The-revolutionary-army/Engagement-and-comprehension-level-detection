{
 "cells": [
  {
   "cell_type": "code",
   "execution_count": 2,
   "metadata": {},
   "outputs": [],
   "source": [
    "import cv2\n",
    "from pathlib import Path\n",
    "from random import *\n",
    "import tensorflow as tf\n",
    "from tensorflow import keras\n",
    "import numpy as np\n",
    "import matplotlib.pyplot as plt\n",
    "import pandas as pd\n",
    "from skimage.feature import hog\n",
    "from imutils import face_utils\n",
    "#import dlib\n",
    "import os\n",
    "import pickle\n",
    "np.random.seed(1000)\n"
   ]
  },
  {
   "cell_type": "code",
   "execution_count": 3,
   "metadata": {},
   "outputs": [],
   "source": [
    "frames = []\n",
    "labels = []\n",
    "for file in os.listdir('oo/'):\n",
    "    if file[-13:] == 'frames.pickle':\n",
    "        with open('oo/'+file, 'rb') as f:\n",
    "            frames.append(pickle.load(f))\n",
    "    elif file[-13:] == 'labels.pickle':\n",
    "        with open('oo/'+file, 'rb') as f:\n",
    "            labels.append(pickle.load(f))"
   ]
  },
  {
   "cell_type": "code",
   "execution_count": 17,
   "metadata": {},
   "outputs": [
    {
     "name": "stdout",
     "output_type": "stream",
     "text": [
      "[[]] [[]] 0 True\n"
     ]
    }
   ],
   "source": [
    "print(frames, labels, len(frames[0]), len(labels) < 18)"
   ]
  },
  {
   "cell_type": "code",
   "execution_count": null,
   "metadata": {},
   "outputs": [],
   "source": []
  }
 ],
 "metadata": {
  "kernelspec": {
   "display_name": "Python 3.7 (tensorflow)",
   "language": "python",
   "name": "tensorflow"
  },
  "language_info": {
   "codemirror_mode": {
    "name": "ipython",
    "version": 3
   },
   "file_extension": ".py",
   "mimetype": "text/x-python",
   "name": "python",
   "nbconvert_exporter": "python",
   "pygments_lexer": "ipython3",
   "version": "3.7.9"
  }
 },
 "nbformat": 4,
 "nbformat_minor": 4
}
