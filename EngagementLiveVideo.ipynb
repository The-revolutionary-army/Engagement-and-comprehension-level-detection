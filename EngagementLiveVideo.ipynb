{
 "cells": [
  {
   "cell_type": "code",
   "execution_count": 1,
   "metadata": {},
   "outputs": [],
   "source": [
    "from tensorflow import keras\n",
    "import pandas as pd\n",
    "import sklearn as sk\n",
    "import tensorflow as tf\n",
    "import matplotlib.pyplot as plt\n",
    "import cv2\n",
    "import copy\n",
    "import numpy as np\n",
    "import dlib"
   ]
  },
  {
   "cell_type": "code",
   "execution_count": 2,
   "metadata": {},
   "outputs": [],
   "source": [
    "model = keras.models.load_model('Models/engagement86.h5')"
   ]
  },
  {
   "cell_type": "code",
   "execution_count": 4,
   "metadata": {},
   "outputs": [],
   "source": [
    "cap = cv2.VideoCapture(1) # Check if the webcam is opened correctLy \n",
    "if not cap.isOpened():\n",
    "    cap = cv2.VideoCapture(0) \n",
    "if not cap.isOpened():\n",
    "    raise IOError(\"Cannot open webcam\")\n",
    "        \n",
    "while True:\n",
    "    _, frame = cap.read()\n",
    "    gray = cv2.cvtColor(frame, cv2.COLOR_BGR2GRAY)\n",
    "    detector = dlib.get_frontal_face_detector()\n",
    "    faces = detector(gray)\n",
    "    #predictor = dlib.shape_predictor(\"shape_predictor_68_face_landmarks.dat\")\n",
    "    font = cv2.FONT_HERSHEY_SIMPLEX\n",
    "    engage=0\n",
    "    roi=[]\n",
    "    for face in faces:\n",
    "        x1 = face.left()\n",
    "        y1 = face.top()\n",
    "        x2 = face.right()\n",
    "        y2 = face.bottom()\n",
    "        # width = x2 - x1\n",
    "        # height = y2 - y1\n",
    "        cv2.rectangle(frame, (x1, y1), (x2, y2), (0, 255, 0), 2)\n",
    "        roi.append(cv2.resize(cv2.cvtColor(frame[y1:y2, x1:x2], cv2.COLOR_BGR2GRAY), (48,48)))\n",
    "    predictions = []\n",
    "    if(len(roi)>0):\n",
    "        test_images = np.expand_dims(roi, axis=3)\n",
    "        predictions = model.predict(test_images)\n",
    "            \n",
    "    for i in range(len(predictions)):\n",
    "        predict=np.argmax(predictions[i])\n",
    "        cv2.putText(frame, f\"{'Engaged' if predict[i] else 'Not Engaged'}\", (x1, y1), font, 0.5, (0, 0, 255), 2, cv2.LINE_4)\n",
    "    \n",
    "    cv2.imshow(\"Drowsiness detection\", frame)\n",
    "    if cv2.waitKey(2) & 0xFF == ord('q'): \n",
    "        cap. release() \n",
    "        cv2.destroyAllWindows() \n",
    "        break"
   ]
  },
  {
   "cell_type": "code",
   "execution_count": null,
   "metadata": {},
   "outputs": [],
   "source": []
  },
  {
   "cell_type": "code",
   "execution_count": null,
   "metadata": {},
   "outputs": [],
   "source": []
  }
 ],
 "metadata": {
  "kernelspec": {
   "display_name": "Python [conda env:tensorflow] *",
   "language": "python",
   "name": "conda-env-tensorflow-py"
  },
  "language_info": {
   "codemirror_mode": {
    "name": "ipython",
    "version": 3
   },
   "file_extension": ".py",
   "mimetype": "text/x-python",
   "name": "python",
   "nbconvert_exporter": "python",
   "pygments_lexer": "ipython3",
   "version": "3.7.10"
  }
 },
 "nbformat": 4,
 "nbformat_minor": 4
}
