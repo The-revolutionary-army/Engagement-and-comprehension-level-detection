{
 "cells": [
  {
   "cell_type": "code",
   "execution_count": 1,
   "metadata": {},
   "outputs": [],
   "source": [
    "from tensorflow import keras \n",
    "import pandas as pd\n",
    "import sklearn as sk\n",
    "import tensorflow as tf\n",
    "import matplotlib.pyplot as plt\n",
    "import cv2\n",
    "import copy\n",
    "import numpy as np"
   ]
  },
  {
   "cell_type": "code",
   "execution_count": 2,
   "metadata": {},
   "outputs": [],
   "source": [
    "physical_devices = tf.config.experimental.list_physical_devices('GPU')\n",
    "if len(physical_devices) > 0:\n",
    "   tf.config.experimental.set_memory_growth(physical_devices[0], True)"
   ]
  },
  {
   "cell_type": "code",
   "execution_count": 3,
   "metadata": {},
   "outputs": [],
   "source": [
    "model = keras.models.load_model('C:/Users/Moh.Massoud/ML/DrowsinessDetectionAlexNet.h5')"
   ]
  },
  {
   "cell_type": "code",
   "execution_count": 4,
   "metadata": {
    "scrolled": true
   },
   "outputs": [],
   "source": [
    "import cv2\n",
    "import dlib\n",
    "\n",
    "cap = cv2.VideoCapture(1) # Check if the webcam is opened correctLy \n",
    "if not cap.isOpened():\n",
    "    cap = cv2.VideoCapture('http://192.168.1.4:4747/video') \n",
    "if not cap.isOpened(): \n",
    "    raise IOError(\"Cannot open webcam\")  \n",
    "\n",
    "#cap.set(cv2.CAP_PROP_FPS, 50)\n",
    "\n",
    "detector = dlib.get_frontal_face_detector()\n",
    "predictor = dlib.shape_predictor(\"C:/Users/Moh.Massoud/ML/shape_predictor_68_face_landmarks.dat\")\n",
    "RIGHT_EYE_POINTS = list(range(36, 42))  \n",
    "LEFT_EYE_POINTS = list(range(42, 48))  \n",
    "status=[\"closed\",\"opened\"]\n",
    "font = cv2.FONT_HERSHEY_SIMPLEX\n",
    "X=[0,0]\n",
    "Y=[0,0]\n",
    "engage=0\n",
    "while True:\n",
    "    _, frame = cap.read()\n",
    "    gray = cv2.cvtColor(frame, cv2.COLOR_BGR2GRAY)\n",
    "    faces = detector(gray)\n",
    "    predictions=[]\n",
    "    roi=[]\n",
    "    for face in faces:\n",
    "        x1 = face.left()\n",
    "        y1 = face.top()\n",
    "        x2 = face.right()\n",
    "        y2 = face.bottom()\n",
    "        landmarks = predictor(gray, face)\n",
    "        mx_x=-np.inf\n",
    "        mn_x=np.inf\n",
    "        mx_y=-np.inf\n",
    "        mn_y=np.inf\n",
    "        for n in RIGHT_EYE_POINTS:\n",
    "            x = landmarks.part(n).x\n",
    "            y = landmarks.part(n).y\n",
    "            mx_x=max(mx_x,x)\n",
    "            mn_x=min(mn_x,x)\n",
    "            mx_y=max(mx_y,y)\n",
    "            mn_y=min(mn_y,y)\n",
    "            #cv2.circle(frame, (x, y), 4, (0, 255, 0), -1)\n",
    "        x=mn_x-10\n",
    "        y=mn_y-10\n",
    "        X[0]=x\n",
    "        Y[0]=y\n",
    "        w=(mx_x-mn_x)+15\n",
    "        h=(mx_y-mn_y)+15\n",
    "        cv2.rectangle(frame, (x, y), (x+w,y+h), (0, 255, 0), 2)\n",
    "        roi.append(cv2.resize(cv2.cvtColor(frame[y:y+h, x:x+w], cv2.COLOR_BGR2GRAY), (224,224)))\n",
    "        mx_x=-np.inf\n",
    "        mn_x=np.inf\n",
    "        mx_y=-np.inf\n",
    "        mn_y=np.inf\n",
    "        for n in LEFT_EYE_POINTS:\n",
    "            x = landmarks.part(n).x\n",
    "            y = landmarks.part(n).y\n",
    "            mx_x=max(mx_x,x)\n",
    "            mn_x=min(mn_x,x)\n",
    "            mx_y=max(mx_y,y)\n",
    "            mn_y=min(mn_y,y)\n",
    "        x=mn_x-10\n",
    "        y=mn_y-10\n",
    "        X[1]=x\n",
    "        Y[1]=y\n",
    "        w=(mx_x-mn_x)+15\n",
    "        h=(mx_y-mn_y)+15\n",
    "        cv2.rectangle(frame, (x, y), (x+w,y+h), (0, 255, 0), 2)\n",
    "        roi.append(cv2.resize(cv2.cvtColor(frame[y:y+h, x:x+w], cv2.COLOR_BGR2GRAY), (224,224)))\n",
    "    if(len(roi)>0):\n",
    "        test_images = np.expand_dims(roi, axis=3)\n",
    "        predictions = model.predict(test_images) \n",
    "    temp=0\n",
    "    for i in range(len(predictions)):\n",
    "        predict=np.argmax(predictions[i])\n",
    "        temp+= not predict\n",
    "        cv2.putText(frame, status[predict], (X[i], Y[i]-20), font, 0.6, (0, 0, 255), 1, cv2.LINE_4)\n",
    "    if temp:\n",
    "        engage+=1\n",
    "    else :\n",
    "        engage=0\n",
    "    if engage>30:\n",
    "        cv2.putText(frame, \"Sleeping\", (50, 50), font, 3, (0, 0, 255), 2, cv2.LINE_4)\n",
    "    cv2.putText(frame, f'{engage} : {temp}', (50, 50), font, 3, (0, 0, 255), 2, cv2.LINE_4)\n",
    "    cv2.imshow(\"Drowsiness detection\", frame)\n",
    "    if cv2.waitKey(2) & 0xFF == ord('q'): \n",
    "        break \n",
    "cap. release() \n",
    "cv2.destroyAllWindows() "
   ]
  },
  {
   "cell_type": "code",
   "execution_count": 5,
   "metadata": {},
   "outputs": [],
   "source": [
    "cap. release() \n",
    "cv2.destroyAllWindows() "
   ]
  }
 ],
 "metadata": {
  "kernelspec": {
   "display_name": "Python 3.7 (tensorflow)",
   "language": "python",
   "name": "tensorflow"
  },
  "language_info": {
   "codemirror_mode": {
    "name": "ipython",
    "version": 3
   },
   "file_extension": ".py",
   "mimetype": "text/x-python",
   "name": "python",
   "nbconvert_exporter": "python",
   "pygments_lexer": "ipython3",
   "version": "3.7.9"
  }
 },
 "nbformat": 4,
 "nbformat_minor": 4
}
