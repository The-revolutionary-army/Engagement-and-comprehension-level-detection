{
 "cells": [
  {
   "cell_type": "code",
   "execution_count": 1,
   "metadata": {},
   "outputs": [],
   "source": [
    "import numpy as np\n",
    "import matplotlib.pyplot as plt\n",
    "import os\n",
    "import cv2\n",
    "import pandas as pd\n",
    "import dlib\n",
    "import pickle\n",
    "import multiprocessing\n",
    "import logging\n",
    "import time"
   ]
  },
  {
   "cell_type": "code",
   "execution_count": 2,
   "metadata": {},
   "outputs": [
    {
     "data": {
      "text/html": [
       "<div>\n",
       "<style scoped>\n",
       "    .dataframe tbody tr th:only-of-type {\n",
       "        vertical-align: middle;\n",
       "    }\n",
       "\n",
       "    .dataframe tbody tr th {\n",
       "        vertical-align: top;\n",
       "    }\n",
       "\n",
       "    .dataframe thead th {\n",
       "        text-align: right;\n",
       "    }\n",
       "</style>\n",
       "<table border=\"1\" class=\"dataframe\">\n",
       "  <thead>\n",
       "    <tr style=\"text-align: right;\">\n",
       "      <th></th>\n",
       "      <th>ClipID</th>\n",
       "      <th>Boredom</th>\n",
       "      <th>Engagement</th>\n",
       "      <th>Confusion</th>\n",
       "      <th>Frustration</th>\n",
       "    </tr>\n",
       "  </thead>\n",
       "  <tbody>\n",
       "    <tr>\n",
       "      <th>0</th>\n",
       "      <td>1100011002.avi</td>\n",
       "      <td>0</td>\n",
       "      <td>2</td>\n",
       "      <td>0</td>\n",
       "      <td>0</td>\n",
       "    </tr>\n",
       "    <tr>\n",
       "      <th>1</th>\n",
       "      <td>1100011003.avi</td>\n",
       "      <td>0</td>\n",
       "      <td>2</td>\n",
       "      <td>0</td>\n",
       "      <td>0</td>\n",
       "    </tr>\n",
       "    <tr>\n",
       "      <th>2</th>\n",
       "      <td>1100011004.avi</td>\n",
       "      <td>0</td>\n",
       "      <td>3</td>\n",
       "      <td>0</td>\n",
       "      <td>0</td>\n",
       "    </tr>\n",
       "    <tr>\n",
       "      <th>3</th>\n",
       "      <td>1100011005.avi</td>\n",
       "      <td>0</td>\n",
       "      <td>3</td>\n",
       "      <td>0</td>\n",
       "      <td>0</td>\n",
       "    </tr>\n",
       "    <tr>\n",
       "      <th>4</th>\n",
       "      <td>1100011006.avi</td>\n",
       "      <td>0</td>\n",
       "      <td>3</td>\n",
       "      <td>0</td>\n",
       "      <td>0</td>\n",
       "    </tr>\n",
       "  </tbody>\n",
       "</table>\n",
       "</div>"
      ],
      "text/plain": [
       "           ClipID  Boredom  Engagement  Confusion  Frustration \n",
       "0  1100011002.avi        0           2          0             0\n",
       "1  1100011003.avi        0           2          0             0\n",
       "2  1100011004.avi        0           3          0             0\n",
       "3  1100011005.avi        0           3          0             0\n",
       "4  1100011006.avi        0           3          0             0"
      ]
     },
     "execution_count": 2,
     "metadata": {},
     "output_type": "execute_result"
    }
   ],
   "source": [
    "labels_data = pd.read_csv('labels/AllLabels.csv')\n",
    "labels_data.head()"
   ]
  },
  {
   "cell_type": "code",
   "execution_count": 3,
   "metadata": {},
   "outputs": [],
   "source": [
    "def thread_function(datapath, ttv, user, extract, clip, ts):\n",
    "    print(\"Thread extracting start: \", ts)\n",
    "    for imagepath in clip:\n",
    "        if imagepath[-3:] != 'jpg':\n",
    "            continue\n",
    "        image = cv2.imread(dataPath+ttv+'/'+user+'/'+extract+'/'+imagepath)\n",
    "        faces = detector(image)\n",
    "        l = len(faces)\n",
    "        for face in faces:\n",
    "            x1 = face.left()\n",
    "            y1 = face.top()\n",
    "            x2 = face.right()\n",
    "            y2 = face.bottom()\n",
    "            roi = cv2.resize(image[y1:y2,x1:x2],(224,224))\n",
    "            frames.append(roi)\n",
    "            labels.append(int(labels_data.loc[labels_data['ClipID'] == clip[0], 'Engagement']))\n",
    "        if l==0:\n",
    "            frames.append(cv2.resize(image,(224,224)))\n",
    "            labels.append(int(labels_data.loc[labels_data['ClipID'] == clip[0], 'Engagement']))\n",
    "    print(\"Thread extracting finished: \", ts)\n",
    "    return 0"
   ]
  },
  {
   "cell_type": "code",
   "execution_count": 4,
   "metadata": {},
   "outputs": [],
   "source": [
    "dataPath = 'C:/Users/Moh.Massoud/ML/Engagment level/DAiSEE/Untitled Folder/Data/'\n",
    "detector = dlib.get_frontal_face_detector()\n",
    "dataset = os.listdir(dataPath)\n",
    "global frames\n",
    "frames = []\n",
    "global labels\n",
    "labels = []\n",
    "threads = []\n",
    "tint = 1\n",
    "for ttv in dataset:\n",
    "    users = os.listdir(dataPath+ttv+'/')\n",
    "    for user in users:\n",
    "        currUser = os.listdir(dataPath+ttv+'/'+user+'/')\n",
    "        for extract in currUser:\n",
    "            clip = os.listdir(dataPath+ttv+'/'+user+'/'+extract+'/')\n",
    "            thread = multiprocessing.Process(target=thread_function, args=(dataPath, ttv, user, extract ,clip, tint))\n",
    "            threads.append(thread)\n",
    "            thread.start()\n",
    "            tint+=1\n",
    "for thread in threads:\n",
    "    thread.join()"
   ]
  },
  {
   "cell_type": "code",
   "execution_count": 5,
   "metadata": {},
   "outputs": [
    {
     "name": "stdout",
     "output_type": "stream",
     "text": [
      "[]\n"
     ]
    }
   ],
   "source": [
    "frames = np.asarray(frames)\n",
    "labels = np.asarray(labels)\n",
    "print(labels)"
   ]
  },
  {
   "cell_type": "markdown",
   "metadata": {},
   "source": [
    "def savePickle(fileName, data):\n",
    "    with open(fileName, 'wb') as f:\n",
    "        pickle.dump(data, f)"
   ]
  },
  {
   "cell_type": "markdown",
   "metadata": {},
   "source": [
    "def loadPickle(fileName):\n",
    "    with open(fileName, 'rb') as f:\n",
    "        return pickle.load(f)"
   ]
  },
  {
   "cell_type": "markdown",
   "metadata": {},
   "source": [
    "frames, labels = getLabeledData('C:/Users/Omar/Data/')\n",
    "savePickle('frames.pkl',frames)\n",
    "savePickle('labels.pkl',labels)\n",
    "for i in range(1,len(frames)):\n",
    "    plt.subplot(10,10,i)\n",
    "    plt.imshow(frames[i])"
   ]
  },
  {
   "cell_type": "markdown",
   "metadata": {},
   "source": [
    "frames = loadPickle('frames.pkl')\n",
    "labels = loadPickle('labels.pkl')"
   ]
  }
 ],
 "metadata": {
  "kernelspec": {
   "display_name": "Python 3",
   "language": "python",
   "name": "python3"
  },
  "language_info": {
   "codemirror_mode": {
    "name": "ipython",
    "version": 3
   },
   "file_extension": ".py",
   "mimetype": "text/x-python",
   "name": "python",
   "nbconvert_exporter": "python",
   "pygments_lexer": "ipython3",
   "version": "3.7.9"
  }
 },
 "nbformat": 4,
 "nbformat_minor": 4
}
