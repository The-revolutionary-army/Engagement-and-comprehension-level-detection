{
 "cells": [
  {
   "cell_type": "code",
   "execution_count": null,
   "metadata": {},
   "outputs": [],
   "source": [
    "from tensorflow import keras"
   ]
  },
  {
   "cell_type": "code",
   "execution_count": null,
   "metadata": {},
   "outputs": [],
   "source": [
    "model_enged  = keras.models.load_model('Models/engagement86.h5')\n",
    "model_bored  = keras.models.load_model('Models/boredom.h5')\n",
    "model_conf   = keras.models.load_model('Models/confusion.h5')\n",
    "model_frus   = keras.models.load_model('Models/Frustration.h5')\n",
    "model_enged._name = 'engagement'\n",
    "model_conf._name = 'confusion'\n",
    "model_bored._name = 'boredom'\n",
    "model_frus._name = 'frustration'"
   ]
  },
  {
   "cell_type": "code",
   "execution_count": null,
   "metadata": {},
   "outputs": [],
   "source": [
    "input = keras.layers.Input(shape = [48,48,1])\n",
    "y_enged = model_enged(input)\n",
    "y_conf = model_conf(input)\n",
    "y_bored = model_bored(input)\n",
    "y_frust = model_frus(input)\n",
    "model = keras.Model(inputs=input, outputs=[y_enged, y_conf,y_bored, y_frust])"
   ]
  },
  {
   "cell_type": "code",
   "execution_count": null,
   "metadata": {},
   "outputs": [],
   "source": [
    "keras.utils.plot_model(\n",
    "    model,\n",
    "    to_file=\"parallel_model.png\",\n",
    "    show_shapes=True,\n",
    "    expand_nested=True,\n",
    "    dpi=150,\n",
    ")"
   ]
  },
  {
   "cell_type": "code",
   "execution_count": null,
   "metadata": {},
   "outputs": [],
   "source": [
    "model.save('parallel_model.h5')"
   ]
  }
 ],
 "metadata": {
  "kernelspec": {
   "display_name": "Python 3",
   "language": "python",
   "name": "python3"
  },
  "language_info": {
   "codemirror_mode": {
    "name": "ipython",
    "version": 3
   },
   "file_extension": ".py",
   "mimetype": "text/x-python",
   "name": "python",
   "nbconvert_exporter": "python",
   "pygments_lexer": "ipython3",
   "version": "3.8.5"
  }
 },
 "nbformat": 4,
 "nbformat_minor": 4
}
