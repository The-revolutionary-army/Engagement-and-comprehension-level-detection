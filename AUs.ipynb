{
 "cells": [
  {
   "cell_type": "code",
   "execution_count": 1,
   "metadata": {},
   "outputs": [],
   "source": [
    "import cv2\n",
    "from pathlib import Path\n",
    "from random import *\n",
    "import tensorflow as tf\n",
    "from tensorflow import keras\n",
    "import numpy as np\n",
    "import matplotlib.pyplot as plt\n",
    "import pandas as pd\n",
    "from skimage.feature import hog\n",
    "from imutils import face_utils\n",
    "#import dlib\n",
    "import os\n",
    "import pickle\n",
    "np.random.seed(1000)\n"
   ]
  },
  {
   "cell_type": "code",
   "execution_count": 2,
   "metadata": {},
   "outputs": [],
   "source": [
    "physical_devices = tf.config.experimental.list_physical_devices('GPU')\n",
    "if len(physical_devices) > 0:\n",
    "    tf.config.experimental.set_memory_growth(physical_devices[0], True)"
   ]
  },
  {
   "cell_type": "code",
   "execution_count": 3,
   "metadata": {},
   "outputs": [],
   "source": [
    "frames = []\n",
    "labels = []\n",
    "for file in os.listdir('output/'):\n",
    "    if file[-13:] == 'frames.pickle':\n",
    "        with open('output/'+file, 'rb') as f:\n",
    "            frames.append(pickle.load(f))\n",
    "    elif file[-13:] == 'labels.pickle':\n",
    "        with open('output/'+file, 'rb') as f:\n",
    "            labels.append(pickle.load(f))"
   ]
  },
  {
   "cell_type": "code",
   "execution_count": 4,
   "metadata": {},
   "outputs": [
    {
     "name": "stdout",
     "output_type": "stream",
     "text": [
      "8231 8231\n"
     ]
    }
   ],
   "source": [
    "print(len(frames), len(labels))"
   ]
  },
  {
   "cell_type": "code",
   "execution_count": 5,
   "metadata": {},
   "outputs": [],
   "source": [
    "from sklearn.model_selection import train_test_split\n",
    "train_clips, test_clips, train_clips_labels, test_clips_labels = \\\n",
    "    train_test_split(frames, labels, test_size=0.2, random_state=42)"
   ]
  },
  {
   "cell_type": "code",
   "execution_count": 6,
   "metadata": {},
   "outputs": [
    {
     "name": "stdout",
     "output_type": "stream",
     "text": [
      "1974773 1974773 493987 493987\n"
     ]
    }
   ],
   "source": [
    "train_images, test_images, train_labels, test_labels = [], [], [], []\n",
    "\n",
    "for clip, label in zip(train_clips, train_clips_labels):\n",
    "    try:\n",
    "        train_images, train_labels = train_images + clip, train_labels + [label[0]] * len(clip)\n",
    "    except Exception as e:\n",
    "        continue\n",
    "\n",
    "for clip, label in zip(test_clips, test_clips_labels):\n",
    "    try:\n",
    "        test_images, test_labels = test_images + clip, test_labels + [label[0]] * len(clip)\n",
    "    except Exception as e:\n",
    "        continue\n",
    "    \n",
    "print(len(train_images), len(train_labels), len(test_images), len(test_labels))"
   ]
  },
  {
   "cell_type": "code",
   "execution_count": 7,
   "metadata": {},
   "outputs": [],
   "source": [
    "train_images, test_images, train_labels, test_labels = np.asarray(train_images), np.asarray(test_images), np.asarray(train_labels), np.asarray(test_labels)"
   ]
  },
  {
   "cell_type": "code",
   "execution_count": 8,
   "metadata": {},
   "outputs": [],
   "source": [
    "test_images, test_labels =np.asarray(test_images), np.asarray(test_labels)"
   ]
  },
  {
   "cell_type": "code",
   "execution_count": 9,
   "metadata": {},
   "outputs": [],
   "source": [
    "test_images = np.expand_dims(test_images, axis=3)\n",
    "train_images = np.expand_dims(train_images, axis=3)"
   ]
  },
  {
   "cell_type": "code",
   "execution_count": 43,
   "metadata": {},
   "outputs": [],
   "source": [
    "import tensorflow.keras.layers as kl\n",
    "import tensorflow.keras.losses\n",
    "from tensorflow.keras.applications.resnet50 import ResNet50"
   ]
  },
  {
   "cell_type": "code",
   "execution_count": 78,
   "metadata": {},
   "outputs": [],
   "source": [
    "def network():\n",
    "    model = tf.keras.Sequential()\n",
    "    model.add(kl.InputLayer(input_shape=(48, 48, 1)))\n",
    "    # First conv block\n",
    "    model.add(kl.Conv2D(filters = 96, kernel_size=7, padding='same', strides=2))\n",
    "    model.add(tf.keras.layers.ReLU())\n",
    "    model.add(kl.MaxPooling2D(pool_size=(3, 3)))\n",
    "    # Second conv block\n",
    "    model.add(kl.Conv2D(filters = 144, kernel_size=5, padding='same', strides=1))\n",
    "    model.add(tf.keras.layers.ReLU())\n",
    "    model.add(kl.MaxPooling2D(pool_size=(2, 2)))\n",
    "    model.add(tf.keras.layers.Dropout(0.5))\n",
    "    # Third-Fourth-Fifth conv block\n",
    "    for i in range(3):\n",
    "        model.add(kl.Conv2D(filters = 144, kernel_size=3, padding='same', strides=1))\n",
    "        model.add(tf.keras.layers.ReLU())\n",
    "        model.add(tf.keras.layers.Dropout(0.5))\n",
    "    model.add(kl.MaxPooling2D(pool_size=(3, 3)))\n",
    "    # Flatten\n",
    "    model.add(kl.Flatten())\n",
    "    # First FC \n",
    "    model.add(kl.Dense(4048))\n",
    "    # Second Fc\n",
    "    model.add(kl.Dense(4048))\n",
    "    # Third FC\n",
    "    model.add(kl.Dense(18, activation='sigmoid'))\n",
    "    \n",
    "    return model"
   ]
  },
  {
   "cell_type": "code",
   "execution_count": 79,
   "metadata": {},
   "outputs": [],
   "source": [
    "model = network()\n",
    "InitialLearnRate = 0.03\n",
    "MaxEpochs = 30\n",
    "MiniBatchSize = 32\n",
    "opt = tf.keras.optimizers.SGD(lr=InitialLearnRate, decay=InitialLearnRate / MaxEpochs)\n",
    "model.compile(loss=\"binary_crossentropy\", optimizer=opt,\n",
    "    metrics=[\"accuracy\"])\n"
   ]
  },
  {
   "cell_type": "code",
   "execution_count": 83,
   "metadata": {},
   "outputs": [
    {
     "name": "stdout",
     "output_type": "stream",
     "text": [
      "Train on 1974773 samples\n",
      "Epoch 1/2\n",
      "1974773/1974773 [==============================] - 271s 137us/sample - loss: 0.3220 - accuracy: 0.8692\n",
      "Epoch 2/2\n",
      "1974773/1974773 [==============================] - 267s 135us/sample - loss: 0.3190 - accuracy: 0.8709\n"
     ]
    },
    {
     "data": {
      "text/plain": [
       "<tensorflow.python.keras.callbacks.History at 0x1b495dfd2c8>"
      ]
     },
     "execution_count": 83,
     "metadata": {},
     "output_type": "execute_result"
    }
   ],
   "source": [
    "model.fit(train_images, train_labels, epochs=2, batch_size=50)"
   ]
  },
  {
   "cell_type": "code",
   "execution_count": 84,
   "metadata": {},
   "outputs": [
    {
     "name": "stdout",
     "output_type": "stream",
     "text": [
      "493987/493987 [==============================] - 34s 68us/sample - loss: 0.3878 - accuracy: 0.8768\n"
     ]
    }
   ],
   "source": [
    "test_loss, test_acc = model.evaluate(test_images,  test_labels)"
   ]
  },
  {
   "cell_type": "code",
   "execution_count": 85,
   "metadata": {},
   "outputs": [
    {
     "name": "stdout",
     "output_type": "stream",
     "text": [
      "(1, 48, 48, 1)\n",
      "[0 0 1 1 0 0 0 0 0 1 0 0 0 0 0 0 0 0]\n",
      "[[0. 0. 1. 0. 0. 0. 0. 0. 0. 1. 0. 0. 0. 0. 0. 0. 0. 0.]]\n",
      "[[0.2405851  0.27745926 0.62066346 0.38186827 0.21612109 0.4847214\n",
      "  0.05815895 0.128251   0.09586369 0.5540133  0.14637493 0.22996923\n",
      "  0.1706232  0.2421216  0.27198803 0.24291526 0.02562252 0.31332058]]\n"
     ]
    },
    {
     "data": {
      "image/png": "[encoded data removed]",
      "text/plain": [
       "<Figure size 432x288 with 1 Axes>"
      ]
     },
     "metadata": {},
     "output_type": "display_data"
    }
   ],
   "source": [
    "def removePlotterAxes():\n",
    "    plt.figure()\n",
    "    plt.grid(False)\n",
    "    plt.xticks([])\n",
    "    plt.yticks([])\n",
    "    pass\n",
    "def plotImg(img):\n",
    "    removePlotterAxes()\n",
    "    plt.imshow(img)\n",
    "    pass\n",
    "\n",
    "plotImg(cv2.cvtColor(test_images[1500], cv2.COLOR_BGR2RGB))\n",
    "prd = np.expand_dims(test_images[1500], axis=0)\n",
    "print(prd.shape)\n",
    "print(test_labels[1500])\n",
    "print(np.rint(model.predict(prd)))\n",
    "print(model.predict(prd))"
   ]
  },
  {
   "cell_type": "code",
   "execution_count": 87,
   "metadata": {},
   "outputs": [],
   "source": [
    "model.save('AUs.h5')"
   ]
  }
 ],
 "metadata": {
  "kernelspec": {
   "display_name": "Python 3",
   "language": "python",
   "name": "python3"
  },
  "language_info": {
   "codemirror_mode": {
    "name": "ipython",
    "version": 3
   },
   "file_extension": ".py",
   "mimetype": "text/x-python",
   "name": "python",
   "nbconvert_exporter": "python",
   "pygments_lexer": "ipython3",
   "version": "3.7.9"
  }
 },
 "nbformat": 4,
 "nbformat_minor": 4
}
